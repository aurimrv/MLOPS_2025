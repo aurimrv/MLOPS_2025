{
 "cells": [
  {
   "cell_type": "markdown",
   "id": "2b60e0d7",
   "metadata": {},
   "source": [
    "Deploy interativo"
   ]
  },
  {
   "cell_type": "code",
   "execution_count": 2,
   "id": "d4d0fb1e",
   "metadata": {},
   "outputs": [
    {
     "name": "stderr",
     "output_type": "stream",
     "text": [
      "2025-06-28 16:25:09.858 Thread 'MainThread': missing ScriptRunContext! This warning can be ignored when running in bare mode.\n",
      "2025-06-28 16:25:09.859 Thread 'MainThread': missing ScriptRunContext! This warning can be ignored when running in bare mode.\n",
      "2025-06-28 16:25:09.860 Thread 'MainThread': missing ScriptRunContext! This warning can be ignored when running in bare mode.\n",
      "2025-06-28 16:25:09.860 Thread 'MainThread': missing ScriptRunContext! This warning can be ignored when running in bare mode.\n",
      "2025-06-28 16:25:09.861 Thread 'MainThread': missing ScriptRunContext! This warning can be ignored when running in bare mode.\n",
      "2025-06-28 16:25:09.861 Thread 'MainThread': missing ScriptRunContext! This warning can be ignored when running in bare mode.\n",
      "2025-06-28 16:25:09.862 Thread 'MainThread': missing ScriptRunContext! This warning can be ignored when running in bare mode.\n",
      "2025-06-28 16:25:09.862 Thread 'MainThread': missing ScriptRunContext! This warning can be ignored when running in bare mode.\n",
      "2025-06-28 16:25:09.863 Thread 'MainThread': missing ScriptRunContext! This warning can be ignored when running in bare mode.\n",
      "2025-06-28 16:25:09.863 Thread 'MainThread': missing ScriptRunContext! This warning can be ignored when running in bare mode.\n",
      "2025-06-28 16:25:09.863 Thread 'MainThread': missing ScriptRunContext! This warning can be ignored when running in bare mode.\n",
      "2025-06-28 16:25:09.864 Thread 'MainThread': missing ScriptRunContext! This warning can be ignored when running in bare mode.\n",
      "2025-06-28 16:25:09.864 Thread 'MainThread': missing ScriptRunContext! This warning can be ignored when running in bare mode.\n",
      "2025-06-28 16:25:09.865 Thread 'MainThread': missing ScriptRunContext! This warning can be ignored when running in bare mode.\n"
     ]
    }
   ],
   "source": [
    "import streamlit as st\n",
    "import joblib\n",
    "import os\n",
    "\n",
    "st.set_page_config(page_title=\"Demo Sentimento\", layout=\"centered\")\n",
    "st.header(\"Classificação de sentimentos em Tweets\")\n",
    "\n",
    "input_text = st.text_area(\"Digite um tweet para análise: \", height=150)\n",
    "model_path = \"../model.joblib\"\n",
    "vector_path = \"../vectorizer.joblib\"\n",
    "\n",
    "if os.path.exists(model_path) and os.path.exists(vector_path):\n",
    "   model = joblib.load(model_path)\n",
    "   vectorizer = joblib.load(vector_path)\n",
    "   \n",
    "   if st.button(\"Classificar\"):\n",
    "      if input_text.strip():\n",
    "         text_vector = vectorizer.transform([input_text])\n",
    "         pred = model.predict(text_vector)[0]\n",
    "         st.success(f\"Sentimento previsto: {pred}\")\n",
    "      else:\n",
    "         st.warning(\"Digite algum texto para classificar.\")\n",
    "else:\n",
    "   st.error(\"Arquivos de modelo ou vetor ausentes.\")"
   ]
  }
 ],
 "metadata": {
  "kernelspec": {
   "display_name": "mlp-esbd3",
   "language": "python",
   "name": "python3"
  },
  "language_info": {
   "codemirror_mode": {
    "name": "ipython",
    "version": 3
   },
   "file_extension": ".py",
   "mimetype": "text/x-python",
   "name": "python",
   "nbconvert_exporter": "python",
   "pygments_lexer": "ipython3",
   "version": "3.11.9"
  }
 },
 "nbformat": 4,
 "nbformat_minor": 5
}
