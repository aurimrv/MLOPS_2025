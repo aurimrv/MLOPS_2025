{
 "cells": [
  {
   "cell_type": "markdown",
   "id": "ba72fea4",
   "metadata": {},
   "source": [
    "Monitoramento e fairness"
   ]
  },
  {
   "cell_type": "code",
   "execution_count": 64,
   "id": "3b6fb73d",
   "metadata": {},
   "outputs": [],
   "source": [
    "import pandas as pd\n",
    "import joblib\n",
    "from sklearn.metrics import classification_report, confusion_matrix\n",
    "import matplotlib.pyplot as plt\n",
    "import seaborn as sns\n",
    "import os"
   ]
  },
  {
   "cell_type": "markdown",
   "id": "3d594d29",
   "metadata": {},
   "source": [
    "Carregar modelos e vetor já treinados"
   ]
  },
  {
   "cell_type": "code",
   "execution_count": 65,
   "id": "7b85389f",
   "metadata": {},
   "outputs": [
    {
     "data": {
      "text/html": [
       "<div>\n",
       "<style scoped>\n",
       "    .dataframe tbody tr th:only-of-type {\n",
       "        vertical-align: middle;\n",
       "    }\n",
       "\n",
       "    .dataframe tbody tr th {\n",
       "        vertical-align: top;\n",
       "    }\n",
       "\n",
       "    .dataframe thead th {\n",
       "        text-align: right;\n",
       "    }\n",
       "</style>\n",
       "<table border=\"1\" class=\"dataframe\">\n",
       "  <thead>\n",
       "    <tr style=\"text-align: right;\">\n",
       "      <th></th>\n",
       "      <th>text</th>\n",
       "      <th>label</th>\n",
       "      <th>text_length</th>\n",
       "    </tr>\n",
       "  </thead>\n",
       "  <tbody>\n",
       "    <tr>\n",
       "      <th>0</th>\n",
       "      <td>Adorei o produto de investimentos no mercado d...</td>\n",
       "      <td>positivo</td>\n",
       "      <td>56</td>\n",
       "    </tr>\n",
       "    <tr>\n",
       "      <th>1</th>\n",
       "      <td>O serviço de instalação internet doi péssimo. ...</td>\n",
       "      <td>negativo</td>\n",
       "      <td>59</td>\n",
       "    </tr>\n",
       "    <tr>\n",
       "      <th>2</th>\n",
       "      <td>Entrega rápida com atendimento excelente</td>\n",
       "      <td>positivo</td>\n",
       "      <td>40</td>\n",
       "    </tr>\n",
       "    <tr>\n",
       "      <th>3</th>\n",
       "      <td>Não voltarei a comprar</td>\n",
       "      <td>negativo</td>\n",
       "      <td>22</td>\n",
       "    </tr>\n",
       "    <tr>\n",
       "      <th>4</th>\n",
       "      <td>Adorei o produto, superou minhas expectativas!</td>\n",
       "      <td>positivo</td>\n",
       "      <td>46</td>\n",
       "    </tr>\n",
       "  </tbody>\n",
       "</table>\n",
       "</div>"
      ],
      "text/plain": [
       "                                                text     label  text_length\n",
       "0  Adorei o produto de investimentos no mercado d...  positivo           56\n",
       "1  O serviço de instalação internet doi péssimo. ...  negativo           59\n",
       "2           Entrega rápida com atendimento excelente  positivo           40\n",
       "3                             Não voltarei a comprar  negativo           22\n",
       "4     Adorei o produto, superou minhas expectativas!  positivo           46"
      ]
     },
     "metadata": {},
     "output_type": "display_data"
    }
   ],
   "source": [
    "model_path = \"../model.joblib\"\n",
    "vector_path = \"../vectorizer.joblib\"\n",
    "dataset_path = \"../data/tweets_limpo.csv\"\n",
    "\n",
    "if not (os.path.exists(model_path) and os.path.exists(vector_path)):\n",
    "   raise FileNotFoundError(\"Treine e salve o modelo antes de prosseguir.\")\n",
    "\n",
    "model = joblib.load(model_path)\n",
    "vectorizer = joblib.load(vector_path)\n",
    "\n",
    "df = pd.read_csv(dataset_path)\n",
    "display(df.head())"
   ]
  },
  {
   "cell_type": "markdown",
   "id": "ff9dda84",
   "metadata": {},
   "source": [
    "Monitoramento"
   ]
  },
  {
   "cell_type": "code",
   "execution_count": 66,
   "id": "eac349a4",
   "metadata": {},
   "outputs": [
    {
     "data": {
      "text/html": [
       "<div>\n",
       "<style scoped>\n",
       "    .dataframe tbody tr th:only-of-type {\n",
       "        vertical-align: middle;\n",
       "    }\n",
       "\n",
       "    .dataframe tbody tr th {\n",
       "        vertical-align: top;\n",
       "    }\n",
       "\n",
       "    .dataframe thead th {\n",
       "        text-align: right;\n",
       "    }\n",
       "</style>\n",
       "<table border=\"1\" class=\"dataframe\">\n",
       "  <thead>\n",
       "    <tr style=\"text-align: right;\">\n",
       "      <th></th>\n",
       "      <th>text</th>\n",
       "    </tr>\n",
       "  </thead>\n",
       "  <tbody>\n",
       "    <tr>\n",
       "      <th>0</th>\n",
       "      <td>Muito ruim. Não gostei do atendimento.</td>\n",
       "    </tr>\n",
       "    <tr>\n",
       "      <th>1</th>\n",
       "      <td>A entrega foi sensacional!</td>\n",
       "    </tr>\n",
       "    <tr>\n",
       "      <th>2</th>\n",
       "      <td>Não funcionou. Me decepcionei.</td>\n",
       "    </tr>\n",
       "    <tr>\n",
       "      <th>3</th>\n",
       "      <td>Recomendo para todos, nota 10!</td>\n",
       "    </tr>\n",
       "    <tr>\n",
       "      <th>4</th>\n",
       "      <td>Recomendo para todos, top!</td>\n",
       "    </tr>\n",
       "  </tbody>\n",
       "</table>\n",
       "</div>"
      ],
      "text/plain": [
       "                                     text\n",
       "0  Muito ruim. Não gostei do atendimento.\n",
       "1              A entrega foi sensacional!\n",
       "2          Não funcionou. Me decepcionei.\n",
       "3          Recomendo para todos, nota 10!\n",
       "4              Recomendo para todos, top!"
      ]
     },
     "metadata": {},
     "output_type": "display_data"
    }
   ],
   "source": [
    "new_texts = [\n",
    "   'Muito ruim. Não gostei do atendimento.',\n",
    "   'A entrega foi sensacional!',\n",
    "   'Não funcionou. Me decepcionei.',\n",
    "   'Recomendo para todos, nota 10!',\n",
    "   'Recomendo para todos, top!',\n",
    "]\n",
    "\n",
    "new_df = pd.DataFrame({\"text\": new_texts})\n",
    "display(new_df.head())"
   ]
  },
  {
   "cell_type": "markdown",
   "id": "2ee9cad6",
   "metadata": {},
   "source": [
    "Vetorizar e predizer"
   ]
  },
  {
   "cell_type": "code",
   "execution_count": 67,
   "id": "58bb080c",
   "metadata": {},
   "outputs": [
    {
     "name": "stdout",
     "output_type": "stream",
     "text": [
      "                                     text sentimento_predito\n",
      "0  Muito ruim. Não gostei do atendimento.           negativo\n",
      "1              A entrega foi sensacional!           positivo\n",
      "2          Não funcionou. Me decepcionei.           negativo\n",
      "3          Recomendo para todos, nota 10!           positivo\n",
      "4              Recomendo para todos, top!           positivo\n"
     ]
    }
   ],
   "source": [
    "new_vectors = vectorizer.transform(new_df[\"text\"])\n",
    "new_preds = model.predict(new_vectors)\n",
    "\n",
    "new_df['sentimento_predito'] = new_preds\n",
    "\n",
    "print(new_df)\n"
   ]
  },
  {
   "cell_type": "markdown",
   "id": "848b7a79",
   "metadata": {},
   "source": [
    "Porcentagem de cada classe"
   ]
  },
  {
   "cell_type": "code",
   "execution_count": 68,
   "id": "bb196ded",
   "metadata": {},
   "outputs": [
    {
     "name": "stdout",
     "output_type": "stream",
     "text": [
      "Distribuição dos sentimentos preditos nos novos dados:\n",
      "sentimento_predito\n",
      "positivo    0.6\n",
      "negativo    0.4\n",
      "Name: proportion, dtype: float64\n"
     ]
    }
   ],
   "source": [
    "class_dist = new_df[\"sentimento_predito\"].value_counts(normalize=True)\n",
    "print(\"Distribuição dos sentimentos preditos nos novos dados:\")\n",
    "print(class_dist)"
   ]
  },
  {
   "cell_type": "markdown",
   "id": "eaffa58c",
   "metadata": {},
   "source": [
    "Fairness - Vieses"
   ]
  },
  {
   "cell_type": "code",
   "execution_count": 69,
   "id": "67fa4d43",
   "metadata": {},
   "outputs": [
    {
     "data": {
      "text/plain": [
       "0     medio\n",
       "1     medio\n",
       "2     curto\n",
       "3     curto\n",
       "4     curto\n",
       "5     curto\n",
       "6     curto\n",
       "7     curto\n",
       "8     curto\n",
       "9     curto\n",
       "10    curto\n",
       "11    curto\n",
       "12    curto\n",
       "13    curto\n",
       "14    curto\n",
       "15    curto\n",
       "Name: len_category, dtype: category\n",
       "Categories (3, object): ['curto' < 'medio' < 'longo']"
      ]
     },
     "metadata": {},
     "output_type": "display_data"
    }
   ],
   "source": [
    "df['text_length'] = df['text'].apply(len)\n",
    "df['len_category'] = pd.cut(df['text_length'], bins=[0,50,150,1000], labels=['curto', 'medio', 'longo'])\n",
    "\n",
    "display(df['len_category'])"
   ]
  },
  {
   "cell_type": "markdown",
   "id": "a9e2aab9",
   "metadata": {},
   "source": [
    "Predição do conjunto de validação"
   ]
  },
  {
   "cell_type": "code",
   "execution_count": 70,
   "id": "0ffb1172",
   "metadata": {},
   "outputs": [
    {
     "data": {
      "text/plain": [
       "0     positivo\n",
       "1     negativo\n",
       "2     positivo\n",
       "3     negativo\n",
       "4     positivo\n",
       "5     negativo\n",
       "6     positivo\n",
       "7     negativo\n",
       "8     positivo\n",
       "9     negativo\n",
       "10    positivo\n",
       "11    negativo\n",
       "12    positivo\n",
       "13    positivo\n",
       "14    positivo\n",
       "15    negativo\n",
       "Name: pred, dtype: object"
      ]
     },
     "metadata": {},
     "output_type": "display_data"
    }
   ],
   "source": [
    "vetores = vectorizer.transform(df['text'])\n",
    "df['pred'] = model.predict(vetores)\n",
    "display(df['pred'])"
   ]
  },
  {
   "cell_type": "markdown",
   "id": "efed5223",
   "metadata": {},
   "source": [
    "Avaliação da acurácia"
   ]
  },
  {
   "cell_type": "code",
   "execution_count": 71,
   "id": "5dc22c19",
   "metadata": {},
   "outputs": [
    {
     "name": "stdout",
     "output_type": "stream",
     "text": [
      "Acurácia para textos medio: 1.00 (N=2)\n",
      "Acurácia para textos curto: 1.00 (N=14)\n"
     ]
    }
   ],
   "source": [
    "for cat in df['len_category'].unique():\n",
    "    subset = df[df['len_category'] == cat]\n",
    "    if not subset.empty:\n",
    "        acuracia = (subset['label'] == subset['pred']).mean()\n",
    "        print(f'Acurácia para textos {cat}: {acuracia:.2f} (N={len(subset)})')"
   ]
  },
  {
   "cell_type": "markdown",
   "id": "33cb8e06",
   "metadata": {},
   "source": [
    "Desafio fairness"
   ]
  },
  {
   "cell_type": "code",
   "execution_count": 72,
   "id": "9a2e6e26",
   "metadata": {},
   "outputs": [
    {
     "name": "stdout",
     "output_type": "stream",
     "text": [
      "\n",
      "Matriz de confusão para textos medio:\n",
      "[[1 0]\n",
      " [0 1]]\n"
     ]
    },
    {
     "data": {
      "image/png": "[encoded data removed]",
      "text/plain": [
       "<Figure size 640x480 with 2 Axes>"
      ]
     },
     "metadata": {},
     "output_type": "display_data"
    },
    {
     "name": "stdout",
     "output_type": "stream",
     "text": [
      "\n",
      "Matriz de confusão para textos curto:\n",
      "[[6 0]\n",
      " [0 8]]\n"
     ]
    },
    {
     "data": {
      "image/png": "[encoded data removed]",
      "text/plain": [
       "<Figure size 640x480 with 2 Axes>"
      ]
     },
     "metadata": {},
     "output_type": "display_data"
    }
   ],
   "source": [
    "for cat in df['len_category'].unique():\n",
    "   subset = df[df[\"len_category\"] == cat]\n",
    "   if not subset.empty:\n",
    "      print(f\"\\nMatriz de confusão para textos {cat}:\")\n",
    "      print(confusion_matrix(subset['label'], subset[\"pred\"]))\n",
    "      sns.heatmap(confusion_matrix(subset['label'], subset[\"pred\"]),\n",
    "                  annot=True, fmt='d', cmap=\"Blues\",\n",
    "                  xticklabels=['negativo','positivo'],\n",
    "                  yticklabels=['negativo','positivo']\n",
    "                  )\n",
    "      plt.title(f\"Textos {cat}\")\n",
    "      plt.xlabel(\"Predito\")\n",
    "      plt.ylabel(\"Real\")\n",
    "      plt.show()"
   ]
  }
 ],
 "metadata": {
  "kernelspec": {
   "display_name": "mlp-esbd3",
   "language": "python",
   "name": "python3"
  },
  "language_info": {
   "codemirror_mode": {
    "name": "ipython",
    "version": 3
   },
   "file_extension": ".py",
   "mimetype": "text/x-python",
   "name": "python",
   "nbconvert_exporter": "python",
   "pygments_lexer": "ipython3",
   "version": "3.11.9"
  }
 },
 "nbformat": 4,
 "nbformat_minor": 5
}
